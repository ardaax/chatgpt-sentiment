{
 "cells": [
  {
   "cell_type": "code",
   "execution_count": 2,
   "id": "d9be32c7",
   "metadata": {},
   "outputs": [
    {
     "data": {
      "application/vnd.jupyter.widget-view+json": {
       "model_id": "75695471618049d196f2ec4774396a50",
       "version_major": 2,
       "version_minor": 0
      },
      "text/plain": [
       "Downloading:   0%|          | 0.00/929 [00:00<?, ?B/s]"
      ]
     },
     "metadata": {},
     "output_type": "display_data"
    },
    {
     "data": {
      "application/vnd.jupyter.widget-view+json": {
       "model_id": "37af013a1d4443c582549fe775d96cb8",
       "version_major": 2,
       "version_minor": 0
      },
      "text/plain": [
       "Downloading:   0%|          | 0.00/899k [00:00<?, ?B/s]"
      ]
     },
     "metadata": {},
     "output_type": "display_data"
    },
    {
     "data": {
      "application/vnd.jupyter.widget-view+json": {
       "model_id": "5c883ce99873462f864a4121726044f4",
       "version_major": 2,
       "version_minor": 0
      },
      "text/plain": [
       "Downloading:   0%|          | 0.00/456k [00:00<?, ?B/s]"
      ]
     },
     "metadata": {},
     "output_type": "display_data"
    },
    {
     "data": {
      "application/vnd.jupyter.widget-view+json": {
       "model_id": "1ab5e87ea5244cacbe5af2918540ebd1",
       "version_major": 2,
       "version_minor": 0
      },
      "text/plain": [
       "Downloading:   0%|          | 0.00/239 [00:00<?, ?B/s]"
      ]
     },
     "metadata": {},
     "output_type": "display_data"
    },
    {
     "data": {
      "application/vnd.jupyter.widget-view+json": {
       "model_id": "3ad270bfaacf4d138c487b4b3e922d17",
       "version_major": 2,
       "version_minor": 0
      },
      "text/plain": [
       "Downloading:   0%|          | 0.00/501M [00:00<?, ?B/s]"
      ]
     },
     "metadata": {},
     "output_type": "display_data"
    },
    {
     "name": "stderr",
     "output_type": "stream",
     "text": [
      "Some weights of the model checkpoint at cardiffnlp/twitter-roberta-base-sentiment-latest were not used when initializing RobertaForSequenceClassification: ['roberta.pooler.dense.bias', 'roberta.pooler.dense.weight']\n",
      "- This IS expected if you are initializing RobertaForSequenceClassification from the checkpoint of a model trained on another task or with another architecture (e.g. initializing a BertForSequenceClassification model from a BertForPreTraining model).\n",
      "- This IS NOT expected if you are initializing RobertaForSequenceClassification from the checkpoint of a model that you expect to be exactly identical (initializing a BertForSequenceClassification model from a BertForSequenceClassification model).\n"
     ]
    },
    {
     "name": "stdout",
     "output_type": "stream",
     "text": [
      "1) negative 0.7236\n",
      "2) neutral 0.2287\n",
      "3) positive 0.0477\n"
     ]
    }
   ],
   "source": [
    "from transformers import AutoModelForSequenceClassification\n",
    "from transformers import TFAutoModelForSequenceClassification\n",
    "from transformers import AutoTokenizer, AutoConfig\n",
    "import numpy as np\n",
    "from scipy.special import softmax\n",
    "# Preprocess text (username and link placeholders)\n",
    "def preprocess(text):\n",
    "    new_text = []\n",
    "    for t in text.split(\" \"):\n",
    "        t = '@user' if t.startswith('@') and len(t) > 1 else t\n",
    "        t = 'http' if t.startswith('http') else t\n",
    "        new_text.append(t)\n",
    "    return \" \".join(new_text)\n",
    "MODEL = f\"cardiffnlp/twitter-roberta-base-sentiment-latest\"\n",
    "tokenizer = AutoTokenizer.from_pretrained(MODEL)\n",
    "config = AutoConfig.from_pretrained(MODEL)\n",
    "# PT\n",
    "model = AutoModelForSequenceClassification.from_pretrained(MODEL)\n",
    "#model.save_pretrained(MODEL)\n",
    "text = \"Even though ChatGPT can be very useful, however it could also lead to unprecedented problems!\"\n",
    "text = preprocess(text)\n",
    "encoded_input = tokenizer(text, return_tensors='pt')\n",
    "output = model(**encoded_input)\n",
    "scores = output[0][0].detach().numpy()\n",
    "scores = softmax(scores)\n",
    "\n",
    "ranking = np.argsort(scores)\n",
    "ranking = ranking[::-1]\n",
    "for i in range(scores.shape[0]):\n",
    "    l = config.id2label[ranking[i]]\n",
    "    s = scores[ranking[i]]\n",
    "    print(f\"{i+1}) {l} {np.round(float(s), 4)}\")\n"
   ]
  },
  {
   "cell_type": "code",
   "execution_count": 20,
   "id": "3c37ed30",
   "metadata": {},
   "outputs": [],
   "source": [
    "# Getting the data\n",
    "import pandas as pd\n",
    "\n",
    "dataset = pd.read_csv('tweets.csv')\n",
    "tweets = dataset['text']\n",
    "predictions = []\n",
    "\n",
    "for tweet in tweets[0:300]:\n",
    "    text = preprocess(tweet)\n",
    "    encoded_input = tokenizer(text, return_tensors='pt')\n",
    "    output = model(**encoded_input)\n",
    "    scores = output[0][0].detach().numpy()\n",
    "    scores = softmax(scores)\n",
    "    predictions.append(scores)"
   ]
  },
  {
   "cell_type": "code",
   "execution_count": 36,
   "id": "b95a449f",
   "metadata": {},
   "outputs": [
    {
     "name": "stdout",
     "output_type": "stream",
     "text": [
      "Counter({2: 137, 1: 129, 0: 34})\n"
     ]
    }
   ],
   "source": [
    "import torch\n",
    "import numpy as np\n",
    "from collections import Counter\n",
    "\n",
    "# 0 -> negative\n",
    "# 1 -> neutral\n",
    "# 2 -> positive\n",
    "\n",
    "max_predictions = np.argmax(predictions, axis=1)\n",
    "max_predictions\n",
    "\n",
    "# Get the count of each element in the array\n",
    "counts = Counter(max_predictions)\n",
    "\n",
    "# Print the counts\n",
    "print(counts)\n",
    "\n",
    "# Percantages #\n",
    "# Get the total number of elements in the array\n",
    "total = len(max_predictions)\n",
    "\n",
    "# Create a dictionary to store the percentages using the numerical labels as keys\n",
    "percentages = {key: round(value / total, 2) for key, value in counts.items()}"
   ]
  },
  {
   "cell_type": "code",
   "execution_count": 37,
   "id": "6e221a9b",
   "metadata": {},
   "outputs": [],
   "source": [
    "# Data exporting to csv\n",
    "\n",
    "import csv\n",
    "\n",
    "# Define a dictionary to map the numerical labels to string labels\n",
    "label_map = {\n",
    "    0: \"negative\",\n",
    "    1: \"neutral\",\n",
    "    2: \"positive\"\n",
    "}\n",
    "\n",
    "# Open the CSV file in write mode\n",
    "with open(\"results.csv\", \"w\", newline=\"\") as csv_file:\n",
    "    # Create a CSV writer object\n",
    "    writer = csv.writer(csv_file)\n",
    "\n",
    "    # Write the column labels\n",
    "    writer.writerow([\"Element\", \"Count\", \"Percentage\"])\n",
    "\n",
    "    # Write the data rows\n",
    "    for element, count in counts.items():\n",
    "       \n",
    "\n",
    "        percentage = percentages[element]\n",
    "         # Map the numerical label to a string label\n",
    "        element = label_map[element]\n",
    "        writer.writerow([element, count, percentage])\n"
   ]
  }
 ],
 "metadata": {
  "kernelspec": {
   "display_name": "Python 3 (ipykernel)",
   "language": "python",
   "name": "python3"
  },
  "language_info": {
   "codemirror_mode": {
    "name": "ipython",
    "version": 3
   },
   "file_extension": ".py",
   "mimetype": "text/x-python",
   "name": "python",
   "nbconvert_exporter": "python",
   "pygments_lexer": "ipython3",
   "version": "3.9.7"
  }
 },
 "nbformat": 4,
 "nbformat_minor": 5
}
